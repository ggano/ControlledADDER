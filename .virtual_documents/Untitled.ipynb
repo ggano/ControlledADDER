


from qiskit_aer import AerSimulator
from qiskit import QuantumRegister, ClassicalRegister, QuantumCircuit
from qiskit_aer import Aer


backend = AerSimulator()





def SET_N(n):
    logn=0
    while(n>(1<<logn)):
        logn += 1
    n_in=QuantumRegister(logn)
    qc=QuantumCircuit(n_in)

    for i in range(logn):
        if(((n>>i)%2)==1):
            qc.x(n_in[i])
        
    return qc


def SET_N_n(n1, n2):
    logn=0
    while(n1>(1<<logn)):
        logn += 1
    n_in=QuantumRegister(n2)
    qc=QuantumCircuit(n_in)

    for i in range(n2):
        if(((n1>>i)%2)==1):
            qc.x(n_in[i])
        
    return qc





def C_CDKM(n):
    a=QuantumRegister(n)
    b=QuantumRegister(n)
    carry=QuantumRegister(1)
    ancilla=QuantumRegister(1)
    controlled=QuantumRegister(1)
    qc=QuantumCircuit(a,b,carry,ancilla,controlled)
    
    if(n>=6):
        for i in range(n-1):
            qc.cx(b[i+1], a[i+1])

        qc.cx(b[1], ancilla[0])

        qc.ccx(a[0], b[0], ancilla[0])
        qc.cx(b[2], b[1])

        qc.x(b[0])
        qc.ccx(ancilla[0], a[1], b[1])
        qc.cx(b[3], b[2])

        qc.ccx(controlled[0], b[0], a[0])
        qc.x(ancilla[0])
        qc.ccx(b[1], a[2], b[2])
        qc.cx(b[4], b[3])

        qc.ccx(controlled[0], ancilla[0], a[1])
        qc.x(b[1])
        qc.ccx(b[2], a[3], b[3])
        qc.cx(b[5], b[4])

        for i in range(n-6):
            qc.ccx(controlled[0], b[i+1], a[i+2])
            qc.x(b[i+2])
            qc.ccx(b[i+3], a[i+4], b[i+4])
            qc.cx(b[i+6], b[i+5])
        
        qc.ccx(controlled[0], b[n-5], a[n-4])
        qc.x(b[n-4])
        qc.ccx(b[n-3], a[n-2], b[n-2])

        qc.ccx(controlled[0], b[n-4], a[n-3])
        qc.x(b[n-3])
        qc.ccx(b[n-2], a[n-1], b[n-1])

        qc.ccx(controlled[0], b[n-1], carry[0])
        
        qc.ccx(controlled[0], b[n-3], a[n-2])
        qc.ccx(b[n-2], a[n-1], b[n-1])

        qc.ccx(controlled[0], b[n-2], a[n-1])
        qc.x(b[n-3])

        qc.x(b[n-4])
        qc.ccx(b[n-3], a[n-2], b[n-2])

        for i in range(n-5):
            qc.cx(controlled[0], a[n-2-i])
            qc.x(b[n-5-i])
            qc.ccx(b[n-4-i], a[n-3-i], b[n-3-i])
            qc.cx(b[n-1-i], b[n-2-i])
        
        qc.cx(controlled[0], a[3])
        qc.x(ancilla[0])
        qc.ccx(b[1], a[2], b[2])
        qc.cx(b[4], b[3])

        qc.cx(controlled[0], a[2])
        qc.x(b[0])
        qc.ccx(ancilla[0], a[1], b[1])
        qc.cx(b[3], b[2])

        qc.cx(controlled[0], a[1])        
        qc.ccx(a[0], b[0], ancilla[0])
        qc.cx(b[2], b[1])

        qc.cx(b[1], ancilla[0])

        qc.cx(controlled[0], a[0])

        for i in range(n-1):
            qc.cx(b[i+1], a[i+1])        
            
    elif(n==5):
        for i in range(4):            
            qc.cx(b[i+1], a[i+1])
        
        qc.cx(b[1], ancilla[0])

        qc.ccx(a[0], b[0], ancilla[0])
        qc.cx(b[2], b[1])

        qc.x(b[0])
        qc.ccx(ancilla[0], a[1], b[1])
        qc.cx(b[3], b[2])

        qc.ccx(controlled[0], b[0], a[0])
        qc.x(ancilla[0])
        qc.ccx(b[1], a[2], b[2])
        qc.cx(b[4], b[3])

        qc.ccx(controlled[0], ancilla[0], a[1])
        qc.x(b[1])
        qc.ccx(b[2], a[3], b[3])        

        qc.ccx(controlled[0], b[1], a[2])
        qc.x(b[2])
        qc.ccx(b[3], a[4], b[4])

        qc.ccx(controlled[0], b[4], carry[0])
        
        qc.ccx(controlled[0], b[2], a[3])
        qc.ccx(b[3], a[4], b[4])

        qc.ccx(controlled[0], b[3], a[4])
        qc.x(b[2])
        qc.x(b[1])
        
        qc.ccx(b[2], a[3], b[3])
        
        qc.cx(controlled[0], a[3])
        qc.x(ancilla[0])
        qc.ccx(b[1], a[2], b[2])
        qc.cx(b[4], b[3])

        qc.cx(controlled[0], a[2])
        qc.x(b[0])
        qc.ccx(ancilla[0], a[1], b[1])
        qc.cx(b[3], b[2])

        qc.cx(controlled[0], a[1])        
        qc.ccx(a[0], b[0], ancilla[0])
        qc.cx(b[2], b[1])

        qc.cx(b[1], ancilla[0])

        qc.cx(controlled[0], a[0])

        for i in range(4):
            qc.cx(b[i+1], a[i+1])
    elif(n==4):
        for i in range(3):            
            qc.cx(b[i+1], a[i+1])
        
        qc.cx(b[1], ancilla[0])

        qc.ccx(a[0], b[0], ancilla[0])
        qc.cx(b[2], b[1])

        qc.x(b[0])
        qc.ccx(ancilla[0], a[1], b[1])
        qc.cx(b[3], b[2])
                
        qc.ccx(controlled[0], b[0], a[0])
        qc.x(ancilla[0])
        qc.ccx(b[1], a[2], b[2])
        
        qc.ccx(controlled[0], ancilla[0], a[1])
        qc.x(b[1])
        qc.ccx(b[2], a[3], b[3])
        
        qc.ccx(controlled[0], b[3], carry[0])
        
        qc.ccx(controlled[0], b[1], a[2])
        qc.ccx(b[2], a[3], b[3])
        
        qc.ccx(controlled[0], b[2], a[3])
        qc.x(b[1])
        qc.x(ancilla[0])
        
        qc.ccx(b[1], a[2], b[2])
        
        qc.cx(controlled[0], a[2])
        qc.x(b[0])
        qc.ccx(ancilla[0], a[1], b[1])
        qc.cx(b[3], b[2])
        
        qc.cx(controlled[0], a[1])
        qc.ccx(a[0], b[0], ancilla[0])
        qc.cx(b[2], b[1])
        
        qc.cx(b[1], ancilla[0])
        
        qc.cx(controlled[0], a[0])
        
        for i in range(3):
            qc.cx(b[i+1], a[i+1])
    elif(n==3):
        for i in range(2):            
            qc.cx(b[i+1], a[i+1])
        
        qc.cx(b[1], ancilla[0])

        qc.ccx(a[0], b[0], ancilla[0])
        qc.cx(b[2], b[1])

        qc.x(b[0])
        qc.ccx(ancilla[0], a[1], b[1])
        
        qc.ccx(controlled[0], b[0], a[0])
        qc.x(ancilla[0])
        qc.ccx(b[1], a[2], b[2])
        
        qc.ccx(controlled[0], b[2], carry[0])
        
        qc.ccx(controlled[0], ancilla[0], a[1])
        qc.ccx(b[1], a[2], b[2])
        
        qc.ccx(controlled[0], b[1], a[2])
        
        qc.x(ancilla[0])
        qc.x(b[0])
        
        qc.ccx(ancilla[0], a[1], b[1])
        
        qc.ccx(a[0], b[0], ancilla[0])
        qc.cx(b[2], b[1])
        qc.cx(controlled[0], a[1])
        
        qc.cx(b[1], ancilla[0])
        
        qc.cx(controlled[0], a[0])
        
        qc.cx(b[1], a[1])
        qc.cx(b[2], a[2])
    elif(n==2):
        qc.cx(b[1], a[1])
        qc.cx(b[1], ancilla[0])
        qc.ccx(a[0], b[0], ancilla[0])
        qc.x(b[0])
        qc.ccx(ancilla[0], a[1], b[1])
        qc.ccx(controlled[0], b[1], carry[0])
        qc.ccx(controlled[0], b[0], a[0])
        qc.ccx(ancilla[0], a[1], b[1])
        qc.ccx(controlled[0], ancilla[0], a[1])
        qc.x(b[0])
        qc.ccx(a[0], b[0], ancilla[0])
        qc.cx(b[1], ancilla[0])
        qc.cx(controlled[0], a[0])
        qc.cx(b[1], a[1])
    elif(n==1):
        qc.ccx(a[0], b[0], ancilla[0])
        qc.ccx(controlled[0], ancilla[0], carry[0])
        qc.ccx(a[0], b[0], ancilla[0])
        qc.ccx(controlled[0], b[0], a[0])        
        
    return qc

def C_CDKM_carryless(n):
    a=QuantumRegister(n)
    b=QuantumRegister(n)
    ancilla=QuantumRegister(1)
    controlled=QuantumRegister(1)
    qc=QuantumCircuit(a,b,ancilla,controlled)

    if(n>=6):
        for i in range(n-2):
            qc.cx(b[i+1], a[i+1])

        qc.cx(b[1], ancilla[0])

        qc.ccx(a[0], b[0], ancilla[0])
        qc.cx(b[2], b[1])

        qc.x(b[0])
        qc.ccx(ancilla[0], a[1], b[1])
        qc.cx(b[3], b[2])

        qc.ccx(controlled[0], b[0], a[0])
        qc.x(ancilla[0])
        qc.ccx(b[1], a[2], b[2])
        qc.cx(b[4], b[3])

        qc.ccx(controlled[0], ancilla[0], a[1])
        qc.x(b[1])
        qc.ccx(b[2], a[3], b[3])
        qc.cx(b[5], b[4])

        for i in range(n-6):
            qc.ccx(controlled[0], b[i+1], a[i+2])
            qc.x(b[i+2])
            qc.ccx(b[i+3], a[i+4], b[i+4])
            qc.cx(b[i+6], b[i+5])
        
        qc.ccx(controlled[0], b[n-5], a[n-4])
        qc.x(b[n-4])
        qc.ccx(b[n-3], a[n-2], b[n-2])

        qc.ccx(controlled[0], b[n-2], a[n-1])
        
        qc.ccx(controlled[0], b[n-4], a[n-3])
        qc.ccx(b[n-3], a[n-2], b[n-2])
        
        qc.ccx(controlled[0], b[n-3], a[n-2])
        qc.cx(b[n-1], b[n-2])
        
        for i in range(n-3):
            qc.x(b[i])
        qc.x(ancilla[0]) 
                
        qc.ccx(b[n-4], a[n-3], b[n-3])

        for i in range(n-5):
            qc.cx(controlled[0], a[n-3-i])
            qc.ccx(b[n-5-i], a[n-4-i], b[n-4-i])
            qc.cx(b[n-2-i], b[n-3-i])
        
        qc.cx(controlled[0], a[2])
        qc.ccx(ancilla[0], a[1], b[1])
        qc.cx(b[3], b[2])

        qc.cx(controlled[0], a[1])        
        qc.ccx(a[0], b[0], ancilla[0])
        qc.cx(b[2], b[1])

        qc.cx(b[1], ancilla[0])

        qc.cx(controlled[0], a[0])

        for i in range(n-2):
            qc.cx(b[i+1], a[i+1])
    elif(n==5):        
        qc.cx(b[1], a[1])
        qc.cx(b[2], a[2])
        qc.cx(b[3], a[3])
        qc.cx(b[1], ancilla[0])
        qc.ccx(a[0], b[0], ancilla[0])
        qc.cx(b[2], b[1])
        qc.x(b[0])
        qc.ccx(ancilla[0], a[1], b[1])
        qc.cx(b[3], b[2])
        qc.ccx(controlled[0], b[0], a[0])
        qc.x(ancilla[0])
        qc.ccx(b[1], a[2], b[2])
        qc.cx(b[4], b[3])
        qc.ccx(controlled[0], ancilla[0], a[1])
        qc.ccx(b[2], a[3], b[3])
        qc.cx(controlled[0], a[2])
        qc.x(b[2])
        qc.ccx(controlled[0], b[2], a[3])
        qc.ccx(controlled[0], b[3], a[4])
        qc.x(b[0])
        qc.x(ancilla[0])
        qc.x(b[2])
        qc.ccx(controlled[0], b[1], a[2])
        qc.ccx(b[2], a[3], b[3])
        qc.ccx(b[1], a[2], b[2])
        qc.cx(b[4], b[3])
        qc.cx(controlled[0], a[3])
        qc.ccx(ancilla[0], a[1], b[1])
        qc.cx(b[3], b[2])
        qc.cx(controlled[0], a[2])
        qc.ccx(a[0], b[0], ancilla[0])
        qc.cx(b[2], b[1])
        qc.cx(controlled[0], a[1])
        qc.cx(b[1], ancilla[0])
        qc.cx(controlled[0], a[0])
        qc.cx(b[1], a[1])
        qc.cx(b[2], a[2]) 
        qc.cx(b[3], a[3]) 
    elif(n==4):        
        qc.cx(b[1], a[1])
        qc.cx(b[2], a[2])
        qc.cx(b[1], ancilla[0])
        qc.ccx(a[0], b[0], ancilla[0])
        qc.cx(b[2], b[1])
        qc.x(b[0])
        qc.ccx(ancilla[0], a[1], b[1])
        qc.cx(b[3], b[2])
        qc.ccx(controlled[0], b[0], a[0])
        qc.ccx(b[1], a[2], b[2])        
        qc.cx(controlled[0], a[1])
        qc.x(b[1])
        qc.ccx(controlled[0], b[1], a[2])
        qc.ccx(controlled[0], b[2], a[3])
        qc.x(b[0])
        qc.x(b[1])
        qc.ccx(controlled[0], ancilla[0], a[1])
        qc.ccx(b[1], a[2], b[2])
        qc.ccx(ancilla[0], a[1], b[1])
        qc.cx(b[3], b[2])
        qc.cx(controlled[0], a[2])
        qc.ccx(a[0], b[0], ancilla[0])
        qc.cx(b[2], b[1])
        qc.cx(controlled[0], a[1])
        qc.cx(b[1], ancilla[0])
        qc.cx(controlled[0], a[0])
        qc.cx(b[2], a[2])
        qc.cx(b[1], a[1])        
    elif(n==3):
        qc.cx(b[1], a[1])
        qc.cx(b[1], ancilla[0])
        qc.ccx(a[0], b[0], ancilla[0])
        qc.cx(b[2], b[1])
        qc.cx(controlled[0], a[0])
        qc.ccx(ancilla[0], a[1], b[1])
        qc.x(ancilla[0])
        qc.ccx(controlled[0], ancilla[0], a[1])
        qc.ccx(controlled[0], b[1], a[2])
        qc.x(ancilla[0])
        qc.ccx(controlled[0], b[0], a[0])
        qc.ccx(ancilla[0], a[1], b[1])
        qc.ccx(a[0], b[0], ancilla[0])
        qc.cx(b[2], b[1])
        qc.cx(controlled[0], a[1])
        qc.cx(b[1], ancilla[0])
        qc.cx(b[1], a[1])
        qc.cx(controlled[0], a[0])
    elif(n==2):
        qc.ccx(a[0], b[0], b[1])
        qc.ccx(controlled[0], b[1], a[1])
        qc.ccx(a[0], b[0], b[1])
        qc.ccx(controlled[0], b[0], a[0])
    elif(n==1):
        qc.ccx(controlled[0], b[0], a[0])

    return qc





def C_CT_ADD(n):
    a=QuantumRegister(n)
    b=QuantumRegister(n)
    carry=QuantumRegister(1)
    ancilla=QuantumRegister(1)
    controlled=QuantumRegister(1)
    qc=QuantumCircuit(a,b,carry,ancilla,controlled)
    
    for i in range(n-1):
        qc.cx(b[i+1], a[i+1])
    
    qc.ccx(controlled[0], b[n-1], carry[0])
    
    for i in range(n-2):
        qc.cx(b[n-2-i], b[n-1-i])
    
    for i in range(n-1):
        qc.ccx(a[i], b[i], b[i+1])
    
    qc.ccx(a[n-1], b[n-1], ancilla[0])
    qc.ccx(controlled[0], ancilla[0], carry[0])
    qc.ccx(a[n-1], b[n-1], ancilla[0])
    
    for i in range(n-1):
        qc.ccx(controlled[0], b[n-1-i], a[n-1-i])
        qc.ccx(a[n-2-i], b[n-2-i], b[n-1-i])
    
    qc.ccx(controlled[0], b[0], a[0])
    
    for i in range(n-2):
        qc.cx(b[i+1], b[i+2])
    
    for i in range(n-1):
        qc.cx(b[i+1], a[i+1])
    
    return qc

def C_CT_ADD_carryless(n):
    a=QuantumRegister(n)
    b=QuantumRegister(n)
    controlled=QuantumRegister(1)
    qc=QuantumCircuit(a,b,controlled)
    
    for i in range(n-1):
        qc.cx(b[i+1], a[i+1])
    
    for i in range(n-2):
        qc.cx(b[n-2-i], b[n-1-i])
    
    for i in range(n-1):
        qc.ccx(a[i], b[i], b[i+1])
    
    
    for i in range(n-1):
        qc.ccx(controlled[0], b[n-1-i], a[n-1-i])
        qc.ccx(a[n-2-i], b[n-2-i], b[n-1-i])
    
    qc.ccx(controlled[0], b[0], a[0])
    
    for i in range(n-2):
        qc.cx(b[i+1], b[i+2])
    
    for i in range(n-1):
        qc.cx(b[i+1], a[i+1])
    
    return qc

def C_CT_ADD_OPT(n):
    a=QuantumRegister(n)
    b=QuantumRegister(n)
    carry=QuantumRegister(1)
    ancilla=QuantumRegister(1)
    controlled=QuantumRegister(1)
    qc=QuantumCircuit(a,b,carry,ancilla,controlled)
    
    for i in range(n-1):
        qc.cx(b[i+1], a[i+1])
    
    qc.ccx(controlled[0], b[n-1], carry[0])
    
    for i in range(n-2):
        qc.cx(b[n-2-i], b[n-1-i])
    
    qc.ccx(a[0], b[0], b[1])
    
    qc.x(b[0])
    
    qc.ccx(a[1], b[1], b[2])
    
    for i in range(n-3):
        qc.ccx(controlled[0], b[i], a[i])
        qc.x(b[i+1])
        qc.ccx(a[i+2], b[i+2], b[i+3])
    
    qc.ccx(controlled[0], b[n-3], a[n-3])
    qc.x(b[n-2])
    qc.ccx(a[n-1], b[n-1], ancilla[0])
    
    qc.ccx(controlled[0], ancilla[0], carry[0])
    
    qc.x(b[n-1])
    qc.ccx(controlled[0], b[n-1], a[n-1])
    qc.x(b[n-1])
    
    qc.ccx(controlled[0], b[n-2], a[n-2])
    qc.ccx(a[n-1], b[n-1], ancilla[0])
    
    for i in range(n-1):
        qc.x(b[i])
    
    for i in range(n-1):
        qc.cx(controlled[0], a[n-1-i])
        qc.ccx(a[n-2-i], b[n-2-i], b[n-1-i])
    
    qc.cx(controlled[0], a[0])
    
    for i in range(n-2):
        qc.cx(b[i+1], b[i+2])
    
    for i in range(n-1):
        qc.cx(b[i+1], a[i+1])
    
    return qc

def C_CT_ADD_OPT_carryless(n):
    a=QuantumRegister(n)
    b=QuantumRegister(n)
    controlled=QuantumRegister(1)
    qc=QuantumCircuit(a,b,controlled)
    
    for i in range(n-1):
        qc.cx(b[i+1], a[i+1])
    
    for i in range(n-2):
        qc.cx(b[n-2-i], b[n-1-i])
    
    qc.ccx(a[0], b[0], b[1])
    
    qc.x(b[0])
    
    qc.ccx(a[1], b[1], b[2])
    
    for i in range(n-3):
        qc.ccx(controlled[0], b[i], a[i])
        qc.x(b[i+1])
        qc.ccx(a[i+2], b[i+2], b[i+3])
    
    qc.ccx(controlled[0], b[n-3], a[n-3])
    qc.x(b[n-2])
    
    qc.ccx(controlled[0], b[n-2], a[n-2])
    qc.ccx(controlled[0], b[n-1], a[n-1])    
    
    for i in range(n-1):
        qc.x(b[i])
    
    qc.ccx(a[n-2], b[n-2], b[n-1])
    
    for i in range(n-2):
        qc.cx(controlled[0], a[n-2-i])
        qc.ccx(a[n-3-i], b[n-3-i], b[n-2-i])
    
    qc.cx(controlled[0], a[0])
    
    for i in range(n-2):
        qc.cx(b[i+1], b[i+2])
    
    for i in range(n-1):
        qc.cx(b[i+1], a[i+1])
    
    return qc





def CDKM_MUL(n_a, n_b, n_mul):
    a=QuantumRegister(n_a)
    b=QuantumRegister(n_b)
    mul=QuantumRegister(n_mul)
    ancilla=QuantumRegister(1)
    qc=QuantumCircuit(a,b,mul,ancilla)

    for i in range(n_a - 1):
        qc.compose(C_CDKM(n_b), qubits=mul[i:i+n_b] + b[:n_b] + [mul[i+n_b]] + [ancilla[0]] + [a[i]], inplace=True)
    
    if(n_mul==n_a+n_b):
        qc.compose(C_CDKM(n_b), qubits=mul[n_a-1:n_a-1+n_b] + b[:n_b] + [mul[n_a+n_b-1]] + [ancilla[0]] + [a[n_a-1]], inplace=True)
    else:
        qc.compose(C_CDKM_carryless(n_b), qubits=mul[n_a-1:n_a-1+n_b] + b[:n_b] + [ancilla[0]] + [a[n_a-1]], inplace=True)
    
    return qc

def CT_MUL(n_a, n_b, n_mul):
    a=QuantumRegister(n_a)
    b=QuantumRegister(n_b)
    mul=QuantumRegister(n_mul)
    ancilla=QuantumRegister(1)
    qc=QuantumCircuit(a,b,mul,ancilla)

    for i in range(n_a - 1):
        qc.compose(C_CT_ADD(n_b), qubits=mul[i:i+n_b] + b[:n_b] + [mul[i+n_b]] + [ancilla[0]] + [a[i]], inplace=True)
    
    if(n_mul==n_a+n_b):
        qc.compose(C_CT_ADD(n_b), qubits=mul[n_a-1:n_a-1+n_b] + b[:n_b] + [mul[n_a+n_b-1]] + [ancilla[0]] + [a[n_a-1]], inplace=True)
    else:
        qc.compose(C_CT_ADD_carryless(n_b), qubits=mul[n_a-1:n_a-1+n_b] + b[:n_b] + [a[n_a-1]], inplace=True)
    
    return qc

def CT_MUL_OPT(n_a, n_b, n_mul):
    a=QuantumRegister(n_a)
    b=QuantumRegister(n_b)
    mul=QuantumRegister(n_mul)
    ancilla=QuantumRegister(1)
    qc=QuantumCircuit(a,b,mul,ancilla)

    for i in range(n_a - 1):
        qc.compose(C_CT_ADD_OPT(n_b), qubits=mul[i:i+n_b] + b[:n_b] + [mul[i+n_b]] + [ancilla[0]] + [a[i]], inplace=True)
    
    if(n_mul==n_a+n_b):
        qc.compose(C_CT_ADD_OPT(n_b), qubits=mul[n_a-1:n_a-1+n_b] + b[:n_b] + [mul[n_a+n_b-1]] + [ancilla[0]] + [a[n_a-1]], inplace=True)
    else:
        qc.compose(C_CT_ADD_OPT_carryless(n_b), qubits=mul[n_a-1:n_a-1+n_b] + b[:n_b] + [a[n_a-1]], inplace=True)
    
    return qc





n=9
q = QuantumRegister(2*n+3, 'q')
result = ClassicalRegister(2*n+3, 'result')
qc = QuantumCircuit(q, result)

qc.compose(SET_N_n(51, n), qubits=q[:n], inplace=True)
qc.compose(SET_N_n(17, n), qubits=q[n:2*n], inplace=True)
qc.compose(SET_N_n(1, 1), qubits=q[2*n+2:2*n+3], inplace=True)

qc.compose(C_CDKM(n), qubits=q[:n] + q[n:2*n] + q[2*n:2*n+1] + q[2*n+1:2*n+2] + q[2*n+2:2*n+3], inplace=True)
#qc.compose(C_CDKM_carryless(n), qubits=q[:n] + q[n:2*n] + q[2*n+1:2*n+2] + q[2*n+2:2*n+3], inplace=True)
#qc.compose(C_THAP_ADD(n), qubits=q[:n] + q[n:2*n] + q[2*n:2*n+1] + q[2*n+1:2*n+2] + q[2*n+2:2*n+3], inplace=True)
#qc.compose(C_THAP_ADD_carryless(n), qubits=q[:n] + q[n:2*n] + q[2*n+2:2*n+3], inplace=True)
#qc.compose(C_THAP_ADD_OPT(n), qubits=q[:n] + q[n:2*n] + q[2*n:2*n+1] + q[2*n+1:2*n+2] + q[2*n+2:2*n+3], inplace=True)
#qc.compose(C_THAP_ADD_OPT_carryless(n), qubits=q[:n] + q[n:2*n] + q[2*n+2:2*n+3], inplace=True)

qc.measure(q, result)

job = backend.run(qc, shots=1)
result = job.result()
counts = result.get_counts()

print("Total count for result are:", counts)
print("Circuit depth:", qc.depth())
print("Circuit ops:", qc.count_ops())

CCX_depth = qc.depth(filter_function=lambda gate: gate.operation.name in ['ccx', 'tdg'])

print('Toffoli depth:', CCX_depth)





n_a = 6
n_b = 6
n_mul=n_a+n_b
q = QuantumRegister(n_a+n_b+n_mul+1, 'q')
result = ClassicalRegister(n_a+n_b+n_mul+1, 'result')
qc = QuantumCircuit(q, result)

# 커스텀 게이트 추가
qc.compose(SET_N_n(33, n_a), qubits=q[:n_a], inplace=True)
qc.compose(SET_N_n(63, n_b), qubits=q[n_a:n_a+n_b], inplace=True)

qc.compose(CDKM_MUL(n_a, n_b, n_a+n_b), qubits=q[:n_a] + q[n_a:n_a+n_b] + q[n_a+n_b:n_a+n_b+n_mul] + [q[n_a+n_b+n_mul]], inplace=True)
#qc.compose(CT_MUL(n_a, n_b, n_a+n_b), qubits=q[:n_a] + q[n_a:n_a+n_b] + q[n_a+n_b:n_a+n_b+n_mul] + [q[n_a+n_b+n_mul]], inplace=True)
#qc.compose(CT_MUL_OPT(n_a, n_b, n_a+n_b), qubits=q[:n_a] + q[n_a:n_a+n_b] + q[n_a+n_b:n_a+n_b+n_mul] + [q[n_a+n_b+n_mul]], inplace=True)

qc.measure(q, result)

job = backend.run(qc, shots=10)
result = job.result()
counts = result.get_counts()

print("Total count for result are:", counts)
print("Circuit depth:", qc.depth())
print("Circuit ops:", qc.count_ops())

CCX_depth = qc.depth(filter_function=lambda gate: gate.operation.name in ['ccx', 'tdg'])

print('Toffoli depth:', CCX_depth)
